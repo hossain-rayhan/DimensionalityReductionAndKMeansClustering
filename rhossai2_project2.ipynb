{
 "cells": [
  {
   "cell_type": "code",
   "execution_count": 2,
   "metadata": {},
   "outputs": [
    {
     "name": "stdout",
     "output_type": "stream",
     "text": [
      "['\\ufeff', 'Name', 'IPEDS#', 'Carm R1', 'HBC', '% Blk Total Students', '% Hisp Total Students', '2017 US News top 65', '2014 Med School', 'Vet School', ' Total Enroll ', '% Grad Enroll', 'Six-year graduation rate', ' ACT/ SAT Avg ', 'Fresh Admit Rate', '% Freshmen Retention', '% UG Pell Grants', '% Bachelors', '% Doct/ Profess', 'Total E&G Expend', 'E&G / St. FTE', 'State Approp Rev', 'Tuition/Fee Rev ', '% Rev from State', '% Rev from Tuit/Fees', '% from State / Tuition', 'Endowment', 'Total Research Expenditures ($000)', 'Student Faculty Ratio', 'Total Faculty', 'ARU Faculty Awards', 'Wall St. Jourl Rank', ' ST. FTE ', 'Total Degrees', 'Total Expend', 'Total Revenue', 'Enowment / St. FTE', 'Total Research Exp - Med School Exp ($000)', 'AG Research ($000)', 'Total Tenure /Tenure-Track Facutly', 'Facutly FTE', '% UG with Loans', '% UG Age 25 +', '% Total Age 25 +', ' % Full-Time ', 'Faculty Academy Memb', ' UG Total Enroll ', ' GR Total Enroll ', ' Full-time Students ', ' Part-time Students ', 'UG Enroll Age 25 +', 'GR Enroll Age 25 +', 'Bach Degrees', 'Masters Degrees', 'Doctoral Degrees', 'Profess Degrees', 'ACT/ SAT 25%', 'ACT/ SAT 75%', '(State/ Tuit)/ St. FTE', 'Med School Res $', 'Academic Support Expenditures', 'Student Services Expenditures', 'Endowment Figure', 'Endowment per Student FTE', 'Total Faculty', 'Total Tenure /Tenure-Track Facutly']\n",
      "66\n"
     ]
    }
   ],
   "source": [
    "def parse_delimited_file(filename, delimiter=\",\"):\n",
    "    with open(filename, 'r', encoding='utf8') as dsvfile:\n",
    "        lines = dsvfile.readlines()\n",
    "\n",
    "    # Strip off the newline from the end of each line\n",
    "    # Using list comprehension is the recommended pythonic way to iterate through lists\n",
    "\n",
    "    new_list = []\n",
    "    for line in lines:\n",
    "        new_list.append(line.rstrip())\n",
    "    \n",
    "    first_row = new_list.pop(0)\n",
    "    headers = first_row.split(delimiter)\n",
    "    print(headers)\n",
    "    print(len(headers))\n",
    "    #age_index = headers.index('age',0)\n",
    "    \n",
    "\n",
    "    # Calculate the number of data rows and columns\n",
    "    num_data_rows = len(new_list)\n",
    "    num_data_cols = len(headers)\n",
    "    \n",
    "#     # Sum the \"age\" values\n",
    "#     age_sum = 0\n",
    "#     for data in new_list:\n",
    "#         columns = data.split(delimiter)\n",
    "#         age = columns[age_index].lstrip()\n",
    "#         age_sum = age_sum + int(age)\n",
    "        \n",
    "#     # Calculate the average age\n",
    "#     ave_age = age_sum / num_data_rows\n",
    "    \n",
    "    \n",
    "# Parse the provided csv file\n",
    "parse_delimited_file('UTK-peers.csv')"
   ]
  },
  {
   "cell_type": "code",
   "execution_count": null,
   "metadata": {},
   "outputs": [],
   "source": []
  }
 ],
 "metadata": {
  "kernelspec": {
   "display_name": "Python 3",
   "language": "python",
   "name": "python3"
  },
  "language_info": {
   "codemirror_mode": {
    "name": "ipython",
    "version": 3
   },
   "file_extension": ".py",
   "mimetype": "text/x-python",
   "name": "python",
   "nbconvert_exporter": "python",
   "pygments_lexer": "ipython3",
   "version": "3.6.5"
  }
 },
 "nbformat": 4,
 "nbformat_minor": 2
}
